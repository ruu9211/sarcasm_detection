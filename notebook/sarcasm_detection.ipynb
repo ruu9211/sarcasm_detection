{
 "cells": [
  {
   "cell_type": "markdown",
   "metadata": {
    "id": "oxOaOU9acN2N"
   },
   "source": [
    "### **Load all required libraries**"
   ]
  },
  {
   "cell_type": "code",
   "execution_count": null,
   "metadata": {
    "id": "46uH31oqSobd"
   },
   "outputs": [],
   "source": [
    "!pip install transformers --quiet\n",
    "!pip install opendatasets --quiet"
   ]
  },
  {
   "cell_type": "code",
   "execution_count": null,
   "metadata": {
    "id": "1IcIRrIYQu_o"
   },
   "outputs": [],
   "source": [
    "import pandas as pd\n",
    "import numpy as np\n",
    "import matplotlib.pyplot as plt\n",
    "import torch\n",
    "import torch.nn as nn\n",
    "from transformers import AutoTokenizer, AutoModel\n",
    "from torch.utils.data import Dataset, DataLoader\n",
    "from sklearn.model_selection import train_test_split\n",
    "from sklearn.metrics import accuracy_score"
   ]
  },
  {
   "cell_type": "markdown",
   "metadata": {
    "id": "gEVQcHLzcVaK"
   },
   "source": [
    "### **Load the Sarcasm Dataset**"
   ]
  },
  {
   "cell_type": "code",
   "execution_count": null,
   "metadata": {
    "id": "lhf4r6tWSCkn"
   },
   "outputs": [],
   "source": [
    "df = pd.read_json('/content/drive/MyDrive/Colab Notebooks/sarcasm.json', lines=True)"
   ]
  },
  {
   "cell_type": "code",
   "execution_count": null,
   "metadata": {
    "colab": {
     "base_uri": "https://localhost:8080/",
     "height": 204
    },
    "id": "Mw3rLqzNSnvE",
    "outputId": "a47ef6a4-4876-4c02-9ac2-186e925f549b"
   },
   "outputs": [],
   "source": [
    "# view the first 5 rows of the dataframe\n",
    "df.head()"
   ]
  },
  {
   "cell_type": "code",
   "execution_count": null,
   "metadata": {
    "colab": {
     "base_uri": "https://localhost:8080/"
    },
    "id": "mqfNATcVSMA7",
    "outputId": "0585340b-700a-4341-b0a9-e471a395c49a"
   },
   "outputs": [],
   "source": [
    "# print the shape of the dataframe\n",
    "df.shape"
   ]
  },
  {
   "cell_type": "code",
   "execution_count": null,
   "metadata": {
    "colab": {
     "base_uri": "https://localhost:8080/",
     "height": 176
    },
    "id": "FIKxVzsYWN1s",
    "outputId": "b2c5cd29-9a72-4ae1-9135-56b667bee560"
   },
   "outputs": [],
   "source": [
    "# check for any null values\n",
    "df.isnull().sum()"
   ]
  },
  {
   "cell_type": "markdown",
   "metadata": {
    "id": "WWM1vguudN6R"
   },
   "source": [
    "### **Data Cleaning**🧼🧽"
   ]
  },
  {
   "cell_type": "code",
   "execution_count": null,
   "metadata": {
    "colab": {
     "base_uri": "https://localhost:8080/"
    },
    "id": "6mfvOLF0WVkf",
    "outputId": "012d5ff2-4860-4098-cf9f-38033a3c2ef7"
   },
   "outputs": [],
   "source": [
    "# check for duplicates\n",
    "df.duplicated().sum()\n",
    "\n",
    "# drop the duplicates\n",
    "df.drop_duplicates(inplace=True)\n",
    "\n",
    "# confirm above changes\n",
    "df.shape"
   ]
  },
  {
   "cell_type": "code",
   "execution_count": null,
   "metadata": {
    "colab": {
     "base_uri": "https://localhost:8080/"
    },
    "id": "43YtnilPWayS",
    "outputId": "5f090725-4c15-4c27-bb5f-5ac018138163"
   },
   "outputs": [],
   "source": [
    "# drop the 'article_link' column\n",
    "df.drop('article_link', inplace=True, axis=1)\n",
    "\n",
    "# confirm above changes\n",
    "df.shape"
   ]
  },
  {
   "cell_type": "code",
   "execution_count": null,
   "metadata": {
    "colab": {
     "base_uri": "https://localhost:8080/",
     "height": 204
    },
    "id": "sKBoxekWXe5-",
    "outputId": "071c0f30-fddb-473d-c9ed-8336007a471e"
   },
   "outputs": [],
   "source": [
    "# view first 5 rows of the dataframe after all the above changes\n",
    "df.head()"
   ]
  },
  {
   "cell_type": "code",
   "execution_count": null,
   "metadata": {
    "colab": {
     "base_uri": "https://localhost:8080/",
     "height": 510
    },
    "id": "savRMRV_ZwXg",
    "outputId": "0d89f369-1a63-4312-adcf-880c5d9e1f90"
   },
   "outputs": [],
   "source": [
    "# check for class balance distribution\n",
    "df['is_sarcastic'].value_counts().plot(kind='bar', color=['black', 'green'])\n",
    "plt.title('Sarcasm Class Distribution\\n(0 for No, 1 for Yes)')\n",
    "plt.xticks(rotation=0)"
   ]
  },
  {
   "cell_type": "markdown",
   "metadata": {
    "id": "t3zQppCGddD5"
   },
   "source": [
    "### **Data Preprocessing, Model Selection and Evaluation**🧹🎯📊"
   ]
  },
  {
   "cell_type": "code",
   "execution_count": null,
   "metadata": {
    "id": "TP581ZAZXz6q"
   },
   "outputs": [],
   "source": [
    "# assign the X and y variables\n",
    "X = df['headline'].values # convert to numpy array\n",
    "y = df['is_sarcastic'].values # convert to numpy array"
   ]
  },
  {
   "cell_type": "code",
   "execution_count": null,
   "metadata": {
    "colab": {
     "base_uri": "https://localhost:8080/"
    },
    "id": "VIO4KzeCZYli",
    "outputId": "21aa2081-02ca-465e-b409-65473ba0604b"
   },
   "outputs": [],
   "source": [
    "# split the dataset for training, validation and testing\n",
    "X_train, X_test, y_train, y_test = train_test_split(X, y, test_size=0.3, stratify=y)\n",
    "X_val, X_test, y_val, y_test = train_test_split(X_test, y_test, test_size=0.5, stratify=y_test)\n",
    "\n",
    "# check above changes\n",
    "print(f'Training Set: {X_train.shape}')\n",
    "print(f'Validation Set: {X_val.shape}')\n",
    "print(f'Testing Set: {X_test.shape}')"
   ]
  },
  {
   "cell_type": "code",
   "execution_count": null,
   "metadata": {
    "colab": {
     "base_uri": "https://localhost:8080/",
     "height": 299,
     "referenced_widgets": [
      "f9a3b6775ee3462f8803e944f38a2ed9",
      "7a2c53176c814bd9ad76f9d4d01e25ed",
      "24ada74c1e5d40fcb3e2642603df0dfa",
      "8a85f669e85b44288b5687865e722a46",
      "cb49303bc6ff4e0db85a892716040dd9",
      "159347b5963b49108ee6d31b5a638c7e",
      "4d2d7fd0a57141d7b254d06364e13a9e",
      "72187df393fb47aaaa7780d25f055fbe",
      "cc4c975795e540ac8314c1ef9af65293",
      "3396c4e3e61841df848869c305964c18",
      "d8897ac81762492d89d513ca41da7926",
      "49cbeaa328fc413dae7eb9d4715a9fe2",
      "0d0696920a244378910d0906f565fd2b",
      "36b87ebad959494dbe8889fdc254b26f",
      "2623135b4be14562af42a8bcc81420a0",
      "46aae7535318404d9814489bf7d8f8cd",
      "2191741d1b0841eea9845f7f41baf0ed",
      "6d3a966ebdff4f01ba39a04c73935f35",
      "7c29cad1e70e49799522257794ef7d49",
      "20011a9810e14cd69cefa5c3003decac",
      "2e928cc6854f4daebe1f719ae63c2e03",
      "e71813e82b60466e9fbffe271497ccb0",
      "66d312848d3240b2bb1cba307507a0fa",
      "279c0239a1864aafad7eacfa3bce6c87",
      "b4b673e28314497bb6692364de265013",
      "91a685874239432ab3b24a23b57aa504",
      "55d2e2e8ea3a4fe985df3b77f2c7ccef",
      "67b8733c0a764faba20e107d697550fb",
      "6db353f6c4ea4fdb8538101108f54b04",
      "955fff8385a34d68b3ac8bf28f07fa99",
      "2e8d30fdcf934f399e89a995832f3080",
      "3d34255be4c049a3a0c699c116c924d8",
      "87dea57582ba447990c0263c7e3bb130",
      "4658aecfafa14c28aeca43bfca1b5d7c",
      "2bd976e9f4e2438a8fd712a19c2ac983",
      "9771fbd3b7b64f0ba076eef331a1284b",
      "fb12d7bd327348bf8286c0b48c30cf36",
      "e2bc9667b0e44e2eb2834b63097beecb",
      "6c525562485d48aaba6a9940e5d4a6e3",
      "e893ad5561e4427d8008b036657df8bd",
      "0fbc481d45324b3984f83babdacf129d",
      "d4793b46b5c74ea8868971e8491a5c2e",
      "95acd3c9bc4d450f962a3264b97f6726",
      "efb4a51c4e2e4d0d9f9eab55b9a4e0a3",
      "62cc5d0938bd425bb2762cde58143eb0",
      "4f2c85a3033a4d419a8223e9629ad064",
      "103d977647b24046bb617cbd1beb9bea",
      "a37f8edb1ae24de4b2bfe95445747fcc",
      "be4007b0bf0c4f269851d23efcffef7f",
      "f992b1fa18284610b5845ba96a6f7767",
      "0468211b96354e90b3363ad9ba44d9db",
      "d65aec0bab4148e0b950b3badc416372",
      "155654fc63174d5cb442393c244daf57",
      "83b2d646d4274ee1b1c98dd830b992bf",
      "4c84c2ead89740679bb261c05c3b6594"
     ]
    },
    "id": "yEnAGC__bt4l",
    "outputId": "8c9830d7-905f-465f-c4dd-d0d69e9d7f8b"
   },
   "outputs": [],
   "source": [
    "# Load model from Hugging Face\n",
    "tokenizer = AutoTokenizer.from_pretrained(\"google-bert/bert-base-uncased\")\n",
    "bert_model = AutoModel.from_pretrained(\"google-bert/bert-base-uncased\")"
   ]
  },
  {
   "cell_type": "code",
   "execution_count": null,
   "metadata": {
    "id": "HZ59exo-gHqS"
   },
   "outputs": [],
   "source": [
    "class dataset(Dataset):\n",
    "  def __init__(self, X, y):\n",
    "    self.X = [tokenizer(x, max_length=100, truncation=True, padding='max_length', return_tensors = 'pt') for x in X]\n",
    "    self.y = torch.tensor(y, dtype=torch.float32)\n",
    "\n",
    "  def __len__(self):\n",
    "    return len(self.X)\n",
    "\n",
    "  def __getitem__(self, index):\n",
    "    return self.X[index], self.y[index]\n",
    "\n",
    "training_data = dataset(X_train, y_train)\n",
    "validation_data = dataset(X_val, y_val)\n",
    "testing_data = dataset(X_test, y_test)"
   ]
  },
  {
   "cell_type": "code",
   "execution_count": null,
   "metadata": {
    "id": "zlGH28AssCI1"
   },
   "outputs": [],
   "source": [
    "batch_size = 32\n",
    "\n",
    "training_dataloader = DataLoader(training_data, batch_size=batch_size, shuffle=True)\n",
    "validation_dataloader = DataLoader(validation_data, batch_size=batch_size, shuffle=True)\n",
    "testing_dataloader = DataLoader(testing_data, batch_size=batch_size, shuffle=True)"
   ]
  },
  {
   "cell_type": "code",
   "execution_count": null,
   "metadata": {
    "id": "j9q8M0OlsdS6"
   },
   "outputs": [],
   "source": [
    "# building the model\n",
    "class Model(nn.Module):\n",
    "  def __init__(self, bert):\n",
    "    super(Model, self).__init__()\n",
    "\n",
    "    self.bert = bert\n",
    "    self.dropout = nn.Dropout(0.25)\n",
    "    self.linear1 = nn.Linear(768, 384)\n",
    "    self.linear2 = nn.Linear(384, 1)\n",
    "    self.sigmoid = nn.Sigmoid()\n",
    "\n",
    "  def forward(self, input_ids, attention_mask):\n",
    "    pooled_output = self.bert(input_ids, attention_mask, return_dict=False)[0][:,0]\n",
    "    output = self.linear1(pooled_output)\n",
    "    output = self.dropout(output)\n",
    "    output = self.linear2(output)\n",
    "    output = self.sigmoid(output)\n",
    "    return output"
   ]
  },
  {
   "cell_type": "code",
   "execution_count": null,
   "metadata": {
    "colab": {
     "base_uri": "https://localhost:8080/"
    },
    "id": "XQg_uWRKtpV2",
    "outputId": "e9ea935a-f00a-4f18-d70c-7149caf03cf4"
   },
   "outputs": [],
   "source": [
    "for param in bert_model.parameters():\n",
    "  param.requires_grad = False\n",
    "\n",
    "model = Model(bert_model)\n",
    "model"
   ]
  },
  {
   "cell_type": "code",
   "execution_count": null,
   "metadata": {
    "id": "SLgmoy9IuP8k"
   },
   "outputs": [],
   "source": [
    "epochs = 10\n",
    "learning_rate = 0.0001\n",
    "\n",
    "criterion = nn.BCELoss()\n",
    "optimizer = torch.optim.Adam(model.parameters(), lr=learning_rate)"
   ]
  },
  {
   "cell_type": "code",
   "execution_count": null,
   "metadata": {
    "colab": {
     "base_uri": "https://localhost:8080/"
    },
    "id": "CbnNuLyOuXtM",
    "outputId": "a7fc064f-023e-49aa-b231-54a9f7f8f099"
   },
   "outputs": [],
   "source": [
    "total_loss_train_plot = []\n",
    "total_loss_validation_plot = []\n",
    "total_acc_train_plot = []\n",
    "total_acc_validation_plot = []\n",
    "\n",
    "for epoch in range(epochs):\n",
    "  total_loss_train = 0\n",
    "  total_loss_validation = 0\n",
    "  total_acc_train = 0\n",
    "  total_acc_validation = 0\n",
    "\n",
    "  for index, data in enumerate(training_dataloader):\n",
    "    inputs, labels = data\n",
    "\n",
    "    prediction = model(inputs['input_ids'].squeeze(1), inputs['attention_mask'].squeeze(1)).squeeze(1)\n",
    "    batch_loss = criterion(prediction, labels)\n",
    "    total_loss_train += batch_loss.item()\n",
    "\n",
    "    acc = (prediction.round() == labels).sum().item()\n",
    "    total_acc_train += acc\n",
    "\n",
    "    batch_loss.backward()\n",
    "    optimizer.step()\n",
    "    optimizer.zero_grad()\n",
    "\n",
    "  with torch.no_grad():\n",
    "    for index, data in enumerate(validation_dataloader):\n",
    "      inputs, labels = data\n",
    "\n",
    "      prediction = model(inputs['input_ids'].squeeze(1), inputs['attention_mask'].squeeze(1)).squeeze(1)\n",
    "      batch_loss = criterion(prediction, labels)\n",
    "      total_loss_validation += batch_loss.item()\n",
    "\n",
    "      acc = (prediction.round() == labels).sum().item()\n",
    "      total_acc_validation += acc\n",
    "\n",
    "  total_loss_train_plot.append(round(total_loss_train/1000, 4))\n",
    "  total_loss_validation_plot.append(round(total_loss_validation/1000, 4))\n",
    "\n",
    "  total_acc_train_plot.append(round(total_acc_train/training_data.__len__() * 100, 4))\n",
    "  total_acc_validation_plot.append(round(total_acc_validation/validation_data.__len__() * 100, 4))\n",
    "\n",
    "  print(f\"\"\"\n",
    "          Epoch No: {epoch+1} | Train Loss: {round(total_loss_train/1000, 4)} | Train Accuracy: {round(total_acc_train/training_data.__len__() * 100, 4)} | Validation Loss: {round(total_loss_validation/1000, 4)} | Validation Accuracy: {round(total_acc_validation/validation_data.__len__() * 100, 4)}\n",
    "        \"\"\")\n"
   ]
  },
  {
   "cell_type": "code",
   "execution_count": null,
   "metadata": {
    "id": "tvLi-rFtJe8F"
   },
   "outputs": [],
   "source": [
    "with torch.no_grad():\n",
    "  total_loss_test = 0\n",
    "  total_acc_test = 0\n",
    "\n",
    "for index, data in enumerate(testing_dataloader):\n",
    "  inputs, labels = data\n",
    "\n",
    "  prediction = model(inputs['input_ids'].squeeze(1), inputs['attention_mask'].squeeze(1)).squeeze(1)\n",
    "  batch_loss = criterion(prediction, labels)\n",
    "  total_loss_test += batch_loss.item()\n",
    "\n",
    "  acc = (prediction.round() == labels).sum().item()\n",
    "  total_acc_test += acc"
   ]
  },
  {
   "cell_type": "code",
   "execution_count": null,
   "metadata": {
    "colab": {
     "base_uri": "https://localhost:8080/",
     "height": 435
    },
    "id": "CFiYXxzlYS0r",
    "outputId": "63521632-7554-4579-bbef-b4e99b11cecf"
   },
   "outputs": [],
   "source": [
    "fig, axs = plt.subplots(nrows=1, ncols=2, figsize=(15, 5))\n",
    "\n",
    "axs[0].plot(total_loss_train_plot, label='Training Loss')\n",
    "axs[0].plot(total_loss_validation_plot, label='Validation Loss')\n",
    "axs[0].set_title('Training and Validation Loss over Epochs')\n",
    "axs[0].set_xlabel('Epochs')\n",
    "axs[0].set_ylabel('Loss')\n",
    "axs[1].set_ylim([0, 0.30])\n",
    "axs[0].legend()\n",
    "\n",
    "axs[1].plot(total_acc_train_plot, label='Training Accuracy')\n",
    "axs[1].plot(total_acc_validation_plot, label='Validation Accuracy')\n",
    "axs[1].set_title('Training and Validation Accuracy over Epochs')\n",
    "axs[1].set_xlabel('Epochs')\n",
    "axs[1].set_ylabel('Accuracy')\n",
    "axs[1].set_ylim([0, 100])\n",
    "axs[1].legend()\n",
    "\n",
    "plt.tight_layout()\n",
    "\n",
    "plt.show()"
   ]
  }
 ],
 "metadata": {
  "colab": {
   "machine_shape": "hm",
   "provenance": []
  },
  "kernelspec": {
   "display_name": "Python 3",
   "name": "python3"
  },
  "language_info": {
   "name": "python"
  }
 },
 "nbformat": 4,
 "nbformat_minor": 0
}
